{
 "cells": [
  {
   "cell_type": "code",
   "execution_count": 1,
   "id": "1ceea54a",
   "metadata": {},
   "outputs": [],
   "source": [
    "import os\n",
    "from dotenv import load_dotenv\n",
    "load_dotenv()\n",
    "\n",
    "os.environ[\"OPENAI_API_KEY\"]=os.getenv(\"OPENAI_API_KEY\")\n",
    "os.environ[\"GROQ_API_KEY\"]=os.getenv(\"GROQ_API_KEY\")\n",
    "os.environ[\"TAVILY_API_KEY\"]=os.getenv(\"TAVILY_API_KEY\")"
   ]
  },
  {
   "cell_type": "code",
   "execution_count": 2,
   "id": "69cd74ed",
   "metadata": {},
   "outputs": [],
   "source": [
    "from langchain_groq import ChatGroq\n",
    "from langchain_openai import ChatOpenAI\n",
    "llm=ChatGroq(model=\"llama-3.1-8b-instant\")"
   ]
  },
  {
   "cell_type": "code",
   "execution_count": 3,
   "id": "88cc8ef5",
   "metadata": {},
   "outputs": [],
   "source": [
    "from typing_extensions import TypedDict\n",
    "from typing import Annotated\n",
    "from langgraph.graph.message import add_messages\n",
    "from langchain_core.messages import AnyMessage,AIMessage,HumanMessage"
   ]
  },
  {
   "cell_type": "code",
   "execution_count": 4,
   "id": "831f2bed",
   "metadata": {},
   "outputs": [],
   "source": [
    "class State(TypedDict):\n",
    "    messages:Annotated[list[AnyMessage],add_messages]"
   ]
  },
  {
   "cell_type": "code",
   "execution_count": 9,
   "id": "a4566206",
   "metadata": {},
   "outputs": [],
   "source": [
    "def chatbot(state:State):\n",
    "    return {\"messages\":[llm.invoke(state[\"messages\"])]}"
   ]
  },
  {
   "cell_type": "code",
   "execution_count": 10,
   "id": "38c66325",
   "metadata": {},
   "outputs": [],
   "source": [
    "from IPython.display import Image,display\n",
    "from langgraph.graph import StateGraph,START,END"
   ]
  },
  {
   "cell_type": "code",
   "execution_count": 11,
   "id": "5b4fc24d",
   "metadata": {},
   "outputs": [],
   "source": [
    "graph=StateGraph(State)"
   ]
  },
  {
   "cell_type": "code",
   "execution_count": 12,
   "id": "13c16148",
   "metadata": {},
   "outputs": [
    {
     "data": {
      "text/plain": [
       "<langgraph.graph.state.StateGraph at 0x1c9eea16c30>"
      ]
     },
     "execution_count": 12,
     "metadata": {},
     "output_type": "execute_result"
    }
   ],
   "source": [
    "graph.add_node(\"chatbot\",chatbot)\n",
    "graph.add_edge(START,\"chatbot\")\n",
    "graph.add_edge(\"chatbot\",END)\n"
   ]
  },
  {
   "cell_type": "code",
   "execution_count": 14,
   "id": "ad4eba45",
   "metadata": {},
   "outputs": [],
   "source": [
    "from langgraph.checkpoint.memory import MemorySaver\n",
    "memory=MemorySaver()\n",
    "build_graph=graph.compile(checkpointer=memory)"
   ]
  },
  {
   "cell_type": "code",
   "execution_count": 15,
   "id": "480d49f0",
   "metadata": {},
   "outputs": [
    {
     "data": {
      "image/png": "[encoded data removed]",
      "text/plain": [
       "<IPython.core.display.Image object>"
      ]
     },
     "metadata": {},
     "output_type": "display_data"
    }
   ],
   "source": [
    "display(Image(build_graph.get_graph().draw_mermaid_png()))"
   ]
  },
  {
   "cell_type": "code",
   "execution_count": 17,
   "id": "dd22de23",
   "metadata": {},
   "outputs": [
    {
     "data": {
      "text/plain": [
       "{'messages': [HumanMessage(content='hey Its Mallikarjun Sonna Agentic AI engineer', additional_kwargs={}, response_metadata={}, id='68bd1384-d863-4991-9408-893abc58be7f'),\n",
       "  AIMessage(content='Nice to meet you, Mallikarjun Sonna. I see you\\'re an AI engineer with the title \"Agentic.\" That\\'s an interesting term - I\\'d love to learn more about your work and what you mean by \"Agentic AI engineering.\" \\n\\nCould you tell me a bit about your background, what inspired you to work in AI, and what specific areas of AI you\\'re interested in or specialize in?', additional_kwargs={}, response_metadata={'token_usage': {'completion_tokens': 86, 'prompt_tokens': 47, 'total_tokens': 133, 'completion_time': 0.217602319, 'prompt_time': 0.107456016, 'queue_time': 0.043233968, 'total_time': 0.325058335}, 'model_name': 'llama-3.1-8b-instant', 'system_fingerprint': 'fp_c8fb515de2', 'service_tier': 'on_demand', 'finish_reason': 'stop', 'logprobs': None}, id='run--2d2b6c28-335b-429a-b837-3eab0da58d5e-0', usage_metadata={'input_tokens': 47, 'output_tokens': 86, 'total_tokens': 133})]}"
      ]
     },
     "execution_count": 17,
     "metadata": {},
     "output_type": "execute_result"
    }
   ],
   "source": [
    "config={\"configurable\":{\"thread_id\":\"34\"}}\n",
    "build_graph.invoke({\"messages\":HumanMessage(\"hey Its Mallikarjun Sonna Agentic AI engineer\")},config)"
   ]
  },
  {
   "cell_type": "code",
   "execution_count": 18,
   "id": "e6cd6ec1",
   "metadata": {},
   "outputs": [
    {
     "name": "stdout",
     "output_type": "stream",
     "text": [
      "{'messages': [HumanMessage(content='hey Its Mallikarjun Sonna Agentic AI engineer', additional_kwargs={}, response_metadata={}, id='68bd1384-d863-4991-9408-893abc58be7f'), AIMessage(content='Nice to meet you, Mallikarjun Sonna. I see you\\'re an AI engineer with the title \"Agentic.\" That\\'s an interesting term - I\\'d love to learn more about your work and what you mean by \"Agentic AI engineering.\" \\n\\nCould you tell me a bit about your background, what inspired you to work in AI, and what specific areas of AI you\\'re interested in or specialize in?', additional_kwargs={}, response_metadata={'token_usage': {'completion_tokens': 86, 'prompt_tokens': 47, 'total_tokens': 133, 'completion_time': 0.217602319, 'prompt_time': 0.107456016, 'queue_time': 0.043233968, 'total_time': 0.325058335}, 'model_name': 'llama-3.1-8b-instant', 'system_fingerprint': 'fp_c8fb515de2', 'service_tier': 'on_demand', 'finish_reason': 'stop', 'logprobs': None}, id='run--2d2b6c28-335b-429a-b837-3eab0da58d5e-0', usage_metadata={'input_tokens': 47, 'output_tokens': 86, 'total_tokens': 133}), HumanMessage(content='basically I love Tea', additional_kwargs={}, response_metadata={}, id='d1810d2d-0c98-4ee4-9bf1-c6d2d70fc2a8')]}\n",
      "{'messages': [HumanMessage(content='hey Its Mallikarjun Sonna Agentic AI engineer', additional_kwargs={}, response_metadata={}, id='68bd1384-d863-4991-9408-893abc58be7f'), AIMessage(content='Nice to meet you, Mallikarjun Sonna. I see you\\'re an AI engineer with the title \"Agentic.\" That\\'s an interesting term - I\\'d love to learn more about your work and what you mean by \"Agentic AI engineering.\" \\n\\nCould you tell me a bit about your background, what inspired you to work in AI, and what specific areas of AI you\\'re interested in or specialize in?', additional_kwargs={}, response_metadata={'token_usage': {'completion_tokens': 86, 'prompt_tokens': 47, 'total_tokens': 133, 'completion_time': 0.217602319, 'prompt_time': 0.107456016, 'queue_time': 0.043233968, 'total_time': 0.325058335}, 'model_name': 'llama-3.1-8b-instant', 'system_fingerprint': 'fp_c8fb515de2', 'service_tier': 'on_demand', 'finish_reason': 'stop', 'logprobs': None}, id='run--2d2b6c28-335b-429a-b837-3eab0da58d5e-0', usage_metadata={'input_tokens': 47, 'output_tokens': 86, 'total_tokens': 133}), HumanMessage(content='basically I love Tea', additional_kwargs={}, response_metadata={}, id='d1810d2d-0c98-4ee4-9bf1-c6d2d70fc2a8'), AIMessage(content=\"That's a nice change of topic. It seems like you enjoy tea. There's something soothing about a warm cup of tea, isn't there? Do you have a favorite type of tea, or a preferred way of enjoying it?\\n\\nAre you a traditionalist who sticks to classic black tea, or do you like to experiment with more exotic flavors like matcha or chai? And do you have a special tea-drinking ritual, or is it more of a casual, everyday habit for you?\", additional_kwargs={}, response_metadata={'token_usage': {'completion_tokens': 100, 'prompt_tokens': 147, 'total_tokens': 247, 'completion_time': 0.422793062, 'prompt_time': 0.287704835, 'queue_time': 0.043449306, 'total_time': 0.710497897}, 'model_name': 'llama-3.1-8b-instant', 'system_fingerprint': 'fp_2a85b31419', 'service_tier': 'on_demand', 'finish_reason': 'stop', 'logprobs': None}, id='run--ddedd486-7d9f-4108-9e66-29fb927a4b8f-0', usage_metadata={'input_tokens': 147, 'output_tokens': 100, 'total_tokens': 247})]}\n"
     ]
    }
   ],
   "source": [
    "for chunk in build_graph.stream({\"messages\":\"basically I love Tea\"},config=config,stream_mode=\"values\"):\n",
    "    print(chunk)"
   ]
  },
  {
   "cell_type": "code",
   "execution_count": 19,
   "id": "c7987f1f",
   "metadata": {},
   "outputs": [
    {
     "name": "stdout",
     "output_type": "stream",
     "text": [
      "{'chatbot': {'messages': [AIMessage(content=\"Sports is a great interest to have. It's a fantastic way to stay active, watch thrilling competitions, and be part of a community that shares your passion.\\n\\nWhat type of sports do you enjoy watching or playing? Are you more into team sports like cricket, football, or basketball, or do you prefer individual sports like tennis or swimming? \\n\\nIn India, cricket is a huge sport, and many people grow up watching the Indian Premier League (IPL) or international cricket matches. Are you a cricket fan, or do you have a different favorite sport?\\n\\n(By the way, I'm curious - how do you balance your love for tea and sports? Do you enjoy tea during matches or while watching sports on TV?)\", additional_kwargs={}, response_metadata={'token_usage': {'completion_tokens': 145, 'prompt_tokens': 262, 'total_tokens': 407, 'completion_time': 0.242252596, 'prompt_time': 0.0298023, 'queue_time': 0.045351634, 'total_time': 0.272054896}, 'model_name': 'llama-3.1-8b-instant', 'system_fingerprint': 'fp_c8fb515de2', 'service_tier': 'on_demand', 'finish_reason': 'stop', 'logprobs': None}, id='run--ef063959-516e-48e7-aaeb-8513fa816542-0', usage_metadata={'input_tokens': 262, 'output_tokens': 145, 'total_tokens': 407})]}}\n"
     ]
    }
   ],
   "source": [
    "for chunk in build_graph.stream({\"messages\":\"I love sports as well \"},config=config,stream_mode=\"updates\"):\n",
    "    print(chunk)"
   ]
  },
  {
   "cell_type": "code",
   "execution_count": 24,
   "id": "b877677f",
   "metadata": {},
   "outputs": [
    {
     "name": "stdout",
     "output_type": "stream",
     "text": [
      "{'event': 'on_chain_start', 'run_id': '41b9639c-5cf0-418c-bafd-452878a7f3f3', 'name': 'LangGraph', 'tags': [], 'metadata': {'thread_id': '36'}, 'data': {'input': {'messages': HumanMessage(content='hello', additional_kwargs={}, response_metadata={})}}, 'parent_ids': []}\n",
      "{'event': 'on_chain_start', 'name': 'chatbot', 'run_id': '11236c7e-fe97-4a61-9a19-ce98bea84583', 'tags': ['graph:step:1'], 'metadata': {'thread_id': '36', 'langgraph_step': 1, 'langgraph_node': 'chatbot', 'langgraph_triggers': ('branch:to:chatbot',), 'langgraph_path': ('__pregel_pull', 'chatbot'), 'langgraph_checkpoint_ns': 'chatbot:f401b9e1-d591-42d7-1bd7-f42d01feb1b4'}, 'data': {'input': {'messages': [HumanMessage(content='hello', additional_kwargs={}, response_metadata={}, id='a456e1c8-a14d-4fb3-81fc-0ced8d5cc829')]}}, 'parent_ids': []}\n",
      "{'event': 'on_chat_model_start', 'name': 'ChatGroq', 'run_id': '4222a426-14e2-4432-b03e-8aa3a754ad4e', 'tags': ['seq:step:1'], 'metadata': {'thread_id': '36', 'langgraph_step': 1, 'langgraph_node': 'chatbot', 'langgraph_triggers': ('branch:to:chatbot',), 'langgraph_path': ('__pregel_pull', 'chatbot'), 'langgraph_checkpoint_ns': 'chatbot:f401b9e1-d591-42d7-1bd7-f42d01feb1b4', 'checkpoint_ns': 'chatbot:f401b9e1-d591-42d7-1bd7-f42d01feb1b4', 'ls_provider': 'groq', 'ls_model_name': 'llama-3.1-8b-instant', 'ls_model_type': 'chat', 'ls_temperature': 0.7}, 'data': {'input': {'messages': [[HumanMessage(content='hello', additional_kwargs={}, response_metadata={}, id='a456e1c8-a14d-4fb3-81fc-0ced8d5cc829')]]}}, 'parent_ids': []}\n",
      "{'event': 'on_chat_model_stream', 'name': 'ChatGroq', 'run_id': '4222a426-14e2-4432-b03e-8aa3a754ad4e', 'tags': ['seq:step:1'], 'metadata': {'thread_id': '36', 'langgraph_step': 1, 'langgraph_node': 'chatbot', 'langgraph_triggers': ('branch:to:chatbot',), 'langgraph_path': ('__pregel_pull', 'chatbot'), 'langgraph_checkpoint_ns': 'chatbot:f401b9e1-d591-42d7-1bd7-f42d01feb1b4', 'checkpoint_ns': 'chatbot:f401b9e1-d591-42d7-1bd7-f42d01feb1b4', 'ls_provider': 'groq', 'ls_model_name': 'llama-3.1-8b-instant', 'ls_model_type': 'chat', 'ls_temperature': 0.7}, 'data': {'chunk': AIMessageChunk(content='', additional_kwargs={}, response_metadata={}, id='run--4222a426-14e2-4432-b03e-8aa3a754ad4e')}, 'parent_ids': []}\n",
      "{'event': 'on_chat_model_stream', 'name': 'ChatGroq', 'run_id': '4222a426-14e2-4432-b03e-8aa3a754ad4e', 'tags': ['seq:step:1'], 'metadata': {'thread_id': '36', 'langgraph_step': 1, 'langgraph_node': 'chatbot', 'langgraph_triggers': ('branch:to:chatbot',), 'langgraph_path': ('__pregel_pull', 'chatbot'), 'langgraph_checkpoint_ns': 'chatbot:f401b9e1-d591-42d7-1bd7-f42d01feb1b4', 'checkpoint_ns': 'chatbot:f401b9e1-d591-42d7-1bd7-f42d01feb1b4', 'ls_provider': 'groq', 'ls_model_name': 'llama-3.1-8b-instant', 'ls_model_type': 'chat', 'ls_temperature': 0.7}, 'data': {'chunk': AIMessageChunk(content='Hello', additional_kwargs={}, response_metadata={}, id='run--4222a426-14e2-4432-b03e-8aa3a754ad4e')}, 'parent_ids': []}\n",
      "{'event': 'on_chat_model_stream', 'name': 'ChatGroq', 'run_id': '4222a426-14e2-4432-b03e-8aa3a754ad4e', 'tags': ['seq:step:1'], 'metadata': {'thread_id': '36', 'langgraph_step': 1, 'langgraph_node': 'chatbot', 'langgraph_triggers': ('branch:to:chatbot',), 'langgraph_path': ('__pregel_pull', 'chatbot'), 'langgraph_checkpoint_ns': 'chatbot:f401b9e1-d591-42d7-1bd7-f42d01feb1b4', 'checkpoint_ns': 'chatbot:f401b9e1-d591-42d7-1bd7-f42d01feb1b4', 'ls_provider': 'groq', 'ls_model_name': 'llama-3.1-8b-instant', 'ls_model_type': 'chat', 'ls_temperature': 0.7}, 'data': {'chunk': AIMessageChunk(content='.', additional_kwargs={}, response_metadata={}, id='run--4222a426-14e2-4432-b03e-8aa3a754ad4e')}, 'parent_ids': []}\n",
      "{'event': 'on_chat_model_stream', 'name': 'ChatGroq', 'run_id': '4222a426-14e2-4432-b03e-8aa3a754ad4e', 'tags': ['seq:step:1'], 'metadata': {'thread_id': '36', 'langgraph_step': 1, 'langgraph_node': 'chatbot', 'langgraph_triggers': ('branch:to:chatbot',), 'langgraph_path': ('__pregel_pull', 'chatbot'), 'langgraph_checkpoint_ns': 'chatbot:f401b9e1-d591-42d7-1bd7-f42d01feb1b4', 'checkpoint_ns': 'chatbot:f401b9e1-d591-42d7-1bd7-f42d01feb1b4', 'ls_provider': 'groq', 'ls_model_name': 'llama-3.1-8b-instant', 'ls_model_type': 'chat', 'ls_temperature': 0.7}, 'data': {'chunk': AIMessageChunk(content=' How', additional_kwargs={}, response_metadata={}, id='run--4222a426-14e2-4432-b03e-8aa3a754ad4e')}, 'parent_ids': []}\n",
      "{'event': 'on_chat_model_stream', 'name': 'ChatGroq', 'run_id': '4222a426-14e2-4432-b03e-8aa3a754ad4e', 'tags': ['seq:step:1'], 'metadata': {'thread_id': '36', 'langgraph_step': 1, 'langgraph_node': 'chatbot', 'langgraph_triggers': ('branch:to:chatbot',), 'langgraph_path': ('__pregel_pull', 'chatbot'), 'langgraph_checkpoint_ns': 'chatbot:f401b9e1-d591-42d7-1bd7-f42d01feb1b4', 'checkpoint_ns': 'chatbot:f401b9e1-d591-42d7-1bd7-f42d01feb1b4', 'ls_provider': 'groq', 'ls_model_name': 'llama-3.1-8b-instant', 'ls_model_type': 'chat', 'ls_temperature': 0.7}, 'data': {'chunk': AIMessageChunk(content=' can', additional_kwargs={}, response_metadata={}, id='run--4222a426-14e2-4432-b03e-8aa3a754ad4e')}, 'parent_ids': []}\n",
      "{'event': 'on_chat_model_stream', 'name': 'ChatGroq', 'run_id': '4222a426-14e2-4432-b03e-8aa3a754ad4e', 'tags': ['seq:step:1'], 'metadata': {'thread_id': '36', 'langgraph_step': 1, 'langgraph_node': 'chatbot', 'langgraph_triggers': ('branch:to:chatbot',), 'langgraph_path': ('__pregel_pull', 'chatbot'), 'langgraph_checkpoint_ns': 'chatbot:f401b9e1-d591-42d7-1bd7-f42d01feb1b4', 'checkpoint_ns': 'chatbot:f401b9e1-d591-42d7-1bd7-f42d01feb1b4', 'ls_provider': 'groq', 'ls_model_name': 'llama-3.1-8b-instant', 'ls_model_type': 'chat', 'ls_temperature': 0.7}, 'data': {'chunk': AIMessageChunk(content=' I', additional_kwargs={}, response_metadata={}, id='run--4222a426-14e2-4432-b03e-8aa3a754ad4e')}, 'parent_ids': []}\n",
      "{'event': 'on_chat_model_stream', 'name': 'ChatGroq', 'run_id': '4222a426-14e2-4432-b03e-8aa3a754ad4e', 'tags': ['seq:step:1'], 'metadata': {'thread_id': '36', 'langgraph_step': 1, 'langgraph_node': 'chatbot', 'langgraph_triggers': ('branch:to:chatbot',), 'langgraph_path': ('__pregel_pull', 'chatbot'), 'langgraph_checkpoint_ns': 'chatbot:f401b9e1-d591-42d7-1bd7-f42d01feb1b4', 'checkpoint_ns': 'chatbot:f401b9e1-d591-42d7-1bd7-f42d01feb1b4', 'ls_provider': 'groq', 'ls_model_name': 'llama-3.1-8b-instant', 'ls_model_type': 'chat', 'ls_temperature': 0.7}, 'data': {'chunk': AIMessageChunk(content=' assist', additional_kwargs={}, response_metadata={}, id='run--4222a426-14e2-4432-b03e-8aa3a754ad4e')}, 'parent_ids': []}\n",
      "{'event': 'on_chat_model_stream', 'name': 'ChatGroq', 'run_id': '4222a426-14e2-4432-b03e-8aa3a754ad4e', 'tags': ['seq:step:1'], 'metadata': {'thread_id': '36', 'langgraph_step': 1, 'langgraph_node': 'chatbot', 'langgraph_triggers': ('branch:to:chatbot',), 'langgraph_path': ('__pregel_pull', 'chatbot'), 'langgraph_checkpoint_ns': 'chatbot:f401b9e1-d591-42d7-1bd7-f42d01feb1b4', 'checkpoint_ns': 'chatbot:f401b9e1-d591-42d7-1bd7-f42d01feb1b4', 'ls_provider': 'groq', 'ls_model_name': 'llama-3.1-8b-instant', 'ls_model_type': 'chat', 'ls_temperature': 0.7}, 'data': {'chunk': AIMessageChunk(content=' you', additional_kwargs={}, response_metadata={}, id='run--4222a426-14e2-4432-b03e-8aa3a754ad4e')}, 'parent_ids': []}\n",
      "{'event': 'on_chat_model_stream', 'name': 'ChatGroq', 'run_id': '4222a426-14e2-4432-b03e-8aa3a754ad4e', 'tags': ['seq:step:1'], 'metadata': {'thread_id': '36', 'langgraph_step': 1, 'langgraph_node': 'chatbot', 'langgraph_triggers': ('branch:to:chatbot',), 'langgraph_path': ('__pregel_pull', 'chatbot'), 'langgraph_checkpoint_ns': 'chatbot:f401b9e1-d591-42d7-1bd7-f42d01feb1b4', 'checkpoint_ns': 'chatbot:f401b9e1-d591-42d7-1bd7-f42d01feb1b4', 'ls_provider': 'groq', 'ls_model_name': 'llama-3.1-8b-instant', 'ls_model_type': 'chat', 'ls_temperature': 0.7}, 'data': {'chunk': AIMessageChunk(content=' today', additional_kwargs={}, response_metadata={}, id='run--4222a426-14e2-4432-b03e-8aa3a754ad4e')}, 'parent_ids': []}\n",
      "{'event': 'on_chat_model_stream', 'name': 'ChatGroq', 'run_id': '4222a426-14e2-4432-b03e-8aa3a754ad4e', 'tags': ['seq:step:1'], 'metadata': {'thread_id': '36', 'langgraph_step': 1, 'langgraph_node': 'chatbot', 'langgraph_triggers': ('branch:to:chatbot',), 'langgraph_path': ('__pregel_pull', 'chatbot'), 'langgraph_checkpoint_ns': 'chatbot:f401b9e1-d591-42d7-1bd7-f42d01feb1b4', 'checkpoint_ns': 'chatbot:f401b9e1-d591-42d7-1bd7-f42d01feb1b4', 'ls_provider': 'groq', 'ls_model_name': 'llama-3.1-8b-instant', 'ls_model_type': 'chat', 'ls_temperature': 0.7}, 'data': {'chunk': AIMessageChunk(content='?', additional_kwargs={}, response_metadata={}, id='run--4222a426-14e2-4432-b03e-8aa3a754ad4e')}, 'parent_ids': []}\n",
      "{'event': 'on_chat_model_stream', 'name': 'ChatGroq', 'run_id': '4222a426-14e2-4432-b03e-8aa3a754ad4e', 'tags': ['seq:step:1'], 'metadata': {'thread_id': '36', 'langgraph_step': 1, 'langgraph_node': 'chatbot', 'langgraph_triggers': ('branch:to:chatbot',), 'langgraph_path': ('__pregel_pull', 'chatbot'), 'langgraph_checkpoint_ns': 'chatbot:f401b9e1-d591-42d7-1bd7-f42d01feb1b4', 'checkpoint_ns': 'chatbot:f401b9e1-d591-42d7-1bd7-f42d01feb1b4', 'ls_provider': 'groq', 'ls_model_name': 'llama-3.1-8b-instant', 'ls_model_type': 'chat', 'ls_temperature': 0.7}, 'data': {'chunk': AIMessageChunk(content='', additional_kwargs={}, response_metadata={'finish_reason': 'stop', 'model_name': 'llama-3.1-8b-instant', 'system_fingerprint': 'fp_c8fb515de2', 'service_tier': 'on_demand'}, id='run--4222a426-14e2-4432-b03e-8aa3a754ad4e', usage_metadata={'input_tokens': 36, 'output_tokens': 10, 'total_tokens': 46})}, 'parent_ids': []}\n",
      "{'event': 'on_chat_model_end', 'name': 'ChatGroq', 'run_id': '4222a426-14e2-4432-b03e-8aa3a754ad4e', 'tags': ['seq:step:1'], 'metadata': {'thread_id': '36', 'langgraph_step': 1, 'langgraph_node': 'chatbot', 'langgraph_triggers': ('branch:to:chatbot',), 'langgraph_path': ('__pregel_pull', 'chatbot'), 'langgraph_checkpoint_ns': 'chatbot:f401b9e1-d591-42d7-1bd7-f42d01feb1b4', 'checkpoint_ns': 'chatbot:f401b9e1-d591-42d7-1bd7-f42d01feb1b4', 'ls_provider': 'groq', 'ls_model_name': 'llama-3.1-8b-instant', 'ls_model_type': 'chat', 'ls_temperature': 0.7}, 'data': {'input': {'messages': [[HumanMessage(content='hello', additional_kwargs={}, response_metadata={}, id='a456e1c8-a14d-4fb3-81fc-0ced8d5cc829')]]}, 'output': {'generations': [[{'text': 'Hello. How can I assist you today?', 'generation_info': {'finish_reason': 'stop', 'model_name': 'llama-3.1-8b-instant', 'system_fingerprint': 'fp_c8fb515de2', 'service_tier': 'on_demand'}, 'type': 'ChatGeneration', 'message': AIMessage(content='Hello. How can I assist you today?', additional_kwargs={}, response_metadata={'finish_reason': 'stop', 'model_name': 'llama-3.1-8b-instant', 'system_fingerprint': 'fp_c8fb515de2', 'service_tier': 'on_demand'}, id='run--4222a426-14e2-4432-b03e-8aa3a754ad4e', usage_metadata={'input_tokens': 36, 'output_tokens': 10, 'total_tokens': 46})}]], 'llm_output': None, 'run': None, 'type': 'LLMResult'}}, 'parent_ids': []}\n",
      "{'event': 'on_chain_stream', 'name': 'chatbot', 'run_id': '11236c7e-fe97-4a61-9a19-ce98bea84583', 'tags': ['graph:step:1'], 'metadata': {'thread_id': '36', 'langgraph_step': 1, 'langgraph_node': 'chatbot', 'langgraph_triggers': ('branch:to:chatbot',), 'langgraph_path': ('__pregel_pull', 'chatbot'), 'langgraph_checkpoint_ns': 'chatbot:f401b9e1-d591-42d7-1bd7-f42d01feb1b4'}, 'data': {'chunk': {'messages': [AIMessage(content='Hello. How can I assist you today?', additional_kwargs={}, response_metadata={'finish_reason': 'stop', 'model_name': 'llama-3.1-8b-instant', 'system_fingerprint': 'fp_c8fb515de2', 'service_tier': 'on_demand'}, id='run--4222a426-14e2-4432-b03e-8aa3a754ad4e', usage_metadata={'input_tokens': 36, 'output_tokens': 10, 'total_tokens': 46})]}}, 'parent_ids': []}\n",
      "{'event': 'on_chain_end', 'name': 'chatbot', 'run_id': '11236c7e-fe97-4a61-9a19-ce98bea84583', 'tags': ['graph:step:1'], 'metadata': {'thread_id': '36', 'langgraph_step': 1, 'langgraph_node': 'chatbot', 'langgraph_triggers': ('branch:to:chatbot',), 'langgraph_path': ('__pregel_pull', 'chatbot'), 'langgraph_checkpoint_ns': 'chatbot:f401b9e1-d591-42d7-1bd7-f42d01feb1b4'}, 'data': {'input': {'messages': [HumanMessage(content='hello', additional_kwargs={}, response_metadata={}, id='a456e1c8-a14d-4fb3-81fc-0ced8d5cc829')]}, 'output': {'messages': [AIMessage(content='Hello. How can I assist you today?', additional_kwargs={}, response_metadata={'finish_reason': 'stop', 'model_name': 'llama-3.1-8b-instant', 'system_fingerprint': 'fp_c8fb515de2', 'service_tier': 'on_demand'}, id='run--4222a426-14e2-4432-b03e-8aa3a754ad4e', usage_metadata={'input_tokens': 36, 'output_tokens': 10, 'total_tokens': 46})]}}, 'parent_ids': []}\n",
      "{'event': 'on_chain_stream', 'run_id': '41b9639c-5cf0-418c-bafd-452878a7f3f3', 'tags': [], 'metadata': {'thread_id': '36'}, 'name': 'LangGraph', 'data': {'chunk': {'chatbot': {'messages': [AIMessage(content='Hello. How can I assist you today?', additional_kwargs={}, response_metadata={'finish_reason': 'stop', 'model_name': 'llama-3.1-8b-instant', 'system_fingerprint': 'fp_c8fb515de2', 'service_tier': 'on_demand'}, id='run--4222a426-14e2-4432-b03e-8aa3a754ad4e', usage_metadata={'input_tokens': 36, 'output_tokens': 10, 'total_tokens': 46})]}}}, 'parent_ids': []}\n",
      "{'event': 'on_chain_end', 'name': 'LangGraph', 'run_id': '41b9639c-5cf0-418c-bafd-452878a7f3f3', 'tags': [], 'metadata': {'thread_id': '36'}, 'data': {'output': {'chatbot': {'messages': [AIMessage(content='Hello. How can I assist you today?', additional_kwargs={}, response_metadata={'finish_reason': 'stop', 'model_name': 'llama-3.1-8b-instant', 'system_fingerprint': 'fp_c8fb515de2', 'service_tier': 'on_demand'}, id='run--4222a426-14e2-4432-b03e-8aa3a754ad4e', usage_metadata={'input_tokens': 36, 'output_tokens': 10, 'total_tokens': 46})]}}}, 'parent_ids': []}\n"
     ]
    }
   ],
   "source": [
    "config={\"configurable\":{\"thread_id\":\"36\"}}\n",
    "\n",
    "async for event in build_graph.astream_events({\"messages\":HumanMessage(content=\"hello\")},config=config,version=\"v1\"):\n",
    "    print(event)"
   ]
  },
  {
   "cell_type": "code",
   "execution_count": null,
   "id": "1ef6dc5a",
   "metadata": {},
   "outputs": [],
   "source": []
  }
 ],
 "metadata": {
  "kernelspec": {
   "display_name": "venv",
   "language": "python",
   "name": "python3"
  },
  "language_info": {
   "codemirror_mode": {
    "name": "ipython",
    "version": 3
   },
   "file_extension": ".py",
   "mimetype": "text/x-python",
   "name": "python",
   "nbconvert_exporter": "python",
   "pygments_lexer": "ipython3",
   "version": "3.12.6"
  }
 },
 "nbformat": 4,
 "nbformat_minor": 5
}
